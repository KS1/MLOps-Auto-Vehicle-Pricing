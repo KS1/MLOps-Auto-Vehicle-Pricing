{
  "cells": [
    {
      "cell_type": "markdown",
      "source": [
        "Github Link: https://github.com/KS1/MLOps-Auto-Vehicle-Pricing/tree/main \n",
        "\n",
        "## Streamlining Auto Vehicle Pricing through MLOps\n",
        "## \n",
        "## **Problem Statement**"
      ],
      "metadata": {}
    },
    {
      "cell_type": "markdown",
      "source": [
        "### **Business Context**"
      ],
      "metadata": {}
    },
    {
      "cell_type": "markdown",
      "source": [
        "An automobile dealership in Los Vegas specializes in selling luxury and non-luxury vehicles. They cater to diverse customer preferences with varying vehicle specifications, such as mileage, engine capacity, and seating capacity. However, the dealership faces significant challenges in maintaining consistency and efficiency across its pricing strategy due to reliance on manual processes and disconnected systems. Pricing evaluations are prone to errors, updates are delayed, and scaling operations are difficult as demand grows. These inefficiencies impact revenue and customer trust. Recognizing the need for a reliable and scalable solution, the dealership is seeking to implement a unified system that ensures seamless integration of data-driven pricing decisions, adaptability to changing market conditions, and operational efficiency."
      ],
      "metadata": {}
    },
    {
      "cell_type": "markdown",
      "source": [
        "### **Objective**"
      ],
      "metadata": {}
    },
    {
      "cell_type": "markdown",
      "source": [
        "The dealership has hired you as an MLOps Engineer to design and implement an MLOps pipeline that automates the pricing workflow. This pipeline will encompass data cleaning, preprocessing, transformation, model building, training, evaluation, and registration with CI/CD capabilities to ensure continuous integration and delivery. Your role is to overcome challenges such as integrating disparate data sources, maintaining consistent model performance, and enabling scalable, automated updates to meet evolving business needs. The expected outcomes are a robust, automated system that improves pricing accuracy, operational efficiency, and scalability, driving increased profitability and customer satisfaction."
      ],
      "metadata": {}
    },
    {
      "cell_type": "markdown",
      "source": [
        "### **Data Description**"
      ],
      "metadata": {}
    },
    {
      "cell_type": "markdown",
      "source": [
        "The dataset contains attributes of used cars sold in various locations. These attributes serve as key data points for CarOnSell's pricing model. The detailed attributes are:\n",
        "\n",
        "- **Segment:** Describes the category of the vehicle, indicating whether it is a luxury or non-luxury segment.\n",
        "\n",
        "- **Kilometers_Driven:** The total number of kilometers the vehicle has been driven.\n",
        "\n",
        "- **Mileage:** The fuel efficiency of the vehicle, measured in kilometers per liter (km/l).\n",
        "\n",
        "- **Engine:** The engine capacity of the vehicle, measured in cubic centimeters (cc). \n",
        "\n",
        "- **Power:** The power of the vehicle's engine, measured in brake horsepower (BHP). \n",
        "\n",
        "- **Seats:** The number of seats in the vehicle, can influence the vehicle's classification, usage, and pricing based on customer needs.\n",
        "\n",
        "- **Price:** The price of the vehicle, listed in lakhs (units of 100,000), represents the cost to the consumer for purchasing the vehicle."
      ],
      "metadata": {}
    },
    {
      "cell_type": "markdown",
      "source": [
        "## **Please read the instructions carefully before starting the project.**\n",
        "\n",
        "This is a commented Python Notebook file in which all the instructions and tasks to be performed are mentioned. \n",
        "* Blanks '_______' are provided in the notebook that \n",
        "needs to be filled with an appropriate code to get the correct result. With every '_______' blank, there is a comment that briefly describes what needs to be filled in the blank space. \n",
        "* Identify the task to be performed correctly, and only then proceed to write the required code.\n",
        "* Fill the code wherever required. Running incomplete code may throw error.\n",
        "* Please run the codes in a sequential manner from the beginning to avoid any unnecessary errors."
      ],
      "metadata": {}
    },
    {
      "cell_type": "markdown",
      "source": [
        "## **1. AzureML Environment Setup and Data Preparation**"
      ],
      "metadata": {}
    },
    {
      "cell_type": "markdown",
      "source": [
        "### **1.1 Connect to Azure Machine Learning Workspace**"
      ],
      "metadata": {}
    },
    {
      "cell_type": "code",
      "source": [
        "# Handle to the workspace\n",
        "from azure.ai.ml import MLClient\n",
        "\n",
        "# Authentication package\n",
        "from azure.identity import DefaultAzureCredential\n",
        "credential = DefaultAzureCredential()"
      ],
      "outputs": [],
      "execution_count": 1,
      "metadata": {
        "gather": {
          "logged": 1759195142287
        }
      }
    },
    {
      "cell_type": "code",
      "source": [
        "# Get a handle to the workspace\n",
        "ml_client = MLClient(\n",
        "    credential=credential,\n",
        "    subscription_id=\"b4f37290-8d43-41df-9b14-dc2c976fb8ca\",\n",
        "    resource_group_name=\"ksrg\",\n",
        "    workspace_name=\"ksAzureML\",\n",
        ")"
      ],
      "outputs": [],
      "execution_count": 2,
      "metadata": {
        "gather": {
          "logged": 1759195142443
        }
      }
    },
    {
      "cell_type": "markdown",
      "source": [
        "### **1.2 Set Up Compute Cluster**"
      ],
      "metadata": {}
    },
    {
      "cell_type": "code",
      "source": [
        "from azure.ai.ml.entities import AmlCompute\n",
        "\n",
        "# Name assigned to the compute cluster\n",
        "cpu_compute_target = \"cpu-cluster\"\n",
        "\n",
        "try:\n",
        "    # let's see if the compute target already exists\n",
        "    cpu_cluster = ml_client.compute.get(cpu_compute_target)\n",
        "    print(\n",
        "        f\"You already have a cluster named {cpu_compute_target}, we'll reuse it as is.\"\n",
        "    )\n",
        "\n",
        "except Exception:\n",
        "    print(\"Creating a new cpu compute target...\")\n",
        "\n",
        "    # Let's create the Azure ML compute object with the intended parameters\n",
        "    cpu_cluster = AmlCompute(\n",
        "        name=cpu_compute_target,\n",
        "        # Azure ML Compute is the on-demand VM service\n",
        "        type=\"amlcompute\",\n",
        "        # VM Family\n",
        "        size=\"Standard_DS11_v2\",\n",
        "        # Minimum running nodes when there is no job running\n",
        "        min_instances=0,\n",
        "        # Nodes in cluster\n",
        "        max_instances=1,\n",
        "        # How many seconds will the node running after the job termination\n",
        "        idle_time_before_scale_down=180,\n",
        "        # Dedicated or LowPriority. The latter is cheaper but there is a chance of job termination\n",
        "        tier=\"Dedicated\",\n",
        "    )\n",
        "\n",
        "    # Now, we pass the object to MLClient's create_or_update method\n",
        "    cpu_cluster = ml_client.compute.begin_create_or_update(cpu_cluster).result()\n",
        "\n",
        "print(\n",
        "    f\"AMLCompute with name {cpu_cluster.name} is created, the compute size is {cpu_cluster.size}\"\n",
        ")"
      ],
      "outputs": [
        {
          "output_type": "stream",
          "name": "stdout",
          "text": "You already have a cluster named cpu-cluster, we'll reuse it as is.\nAMLCompute with name cpu-cluster is created, the compute size is Standard_DS11_v2\n"
        }
      ],
      "execution_count": 3,
      "metadata": {
        "gather": {
          "logged": 1759195142960
        }
      }
    },
    {
      "cell_type": "markdown",
      "source": [
        "### **1.3 Register Dataset as Data Asset**"
      ],
      "metadata": {}
    },
    {
      "cell_type": "code",
      "source": [
        "from azure.ai.ml.entities import Data\n",
        "from azure.ai.ml.constants import AssetTypes\n",
        "\n",
        "# Path to the local dataset\n",
        "local_data_path = 'used_cars.csv'\n",
        "\n",
        "# Create and register the dataset as an AzureML data asset\n",
        "data_asset = Data(\n",
        "    path=local_data_path,\n",
        "    type=AssetTypes.URI_FILE, \n",
        "    description=\"A dataset of used cars for price prediction\",\n",
        "    name=\"used-cars-data\"\n",
        ")"
      ],
      "outputs": [],
      "execution_count": 4,
      "metadata": {
        "gather": {
          "logged": 1759195143673
        }
      }
    },
    {
      "cell_type": "code",
      "source": [
        "ml_client.data.create_or_update(data_asset)"
      ],
      "outputs": [
        {
          "output_type": "execute_result",
          "execution_count": 5,
          "data": {
            "text/plain": "Data({'path': 'azureml://subscriptions/b4f37290-8d43-41df-9b14-dc2c976fb8ca/resourcegroups/ksrg/workspaces/ksAzureML/datastores/workspaceblobstore/paths/LocalUpload/0b8e06a9f14bf45a52b1c21394f1cdf03017517cd48663b3e20a05882ff35cdd/used_cars.csv', 'skip_validation': False, 'mltable_schema_url': None, 'referenced_uris': None, 'type': 'uri_file', 'is_anonymous': False, 'auto_increment_version': False, 'auto_delete_setting': None, 'name': 'used-cars-data', 'description': 'A dataset of used cars for price prediction', 'tags': {}, 'properties': {}, 'print_as_yaml': False, 'id': '/subscriptions/b4f37290-8d43-41df-9b14-dc2c976fb8ca/resourceGroups/ksrg/providers/Microsoft.MachineLearningServices/workspaces/ksAzureML/data/used-cars-data/versions/25', 'Resource__source_path': '', 'base_path': '/mnt/batch/tasks/shared/LS_root/mounts/clusters/kscompute/code/Users/Kartiki_1746300143815/Project-3-Streamlining Auto Vehicle Pricing through MLOps', 'creation_context': <azure.ai.ml.entities._system_data.SystemData object at 0x7ab4e554f0a0>, 'serialize': <msrest.serialization.Serializer object at 0x7ab4e554ec20>, 'version': '25', 'latest_version': None, 'datastore': None})"
          },
          "metadata": {}
        }
      ],
      "execution_count": 5,
      "metadata": {
        "gather": {
          "logged": 1759195145030
        }
      }
    },
    {
      "cell_type": "markdown",
      "source": [
        "### **1.4 Create and Configure Job Environment**"
      ],
      "metadata": {}
    },
    {
      "cell_type": "code",
      "source": [
        "# Create a directory for the preprocessing script\n",
        "import os\n",
        "\n",
        "src_dir_env = \"./env\"\n",
        "os.makedirs(src_dir_env, exist_ok=True)"
      ],
      "outputs": [],
      "execution_count": 6,
      "metadata": {
        "gather": {
          "logged": 1759195145357
        }
      }
    },
    {
      "cell_type": "code",
      "source": [
        "%%writefile {src_dir_env}/conda.yml\n",
        "name: sklearn-env\n",
        "channels:\n",
        "  - conda-forge\n",
        "dependencies:\n",
        "  - python=3.8\n",
        "  - pip=21.2.4\n",
        "  - scikit-learn=0.23.2\n",
        "  - scipy=1.7.1\n",
        "  - pip:  \n",
        "    - mlflow==2.8.1\n",
        "    - mlflow-skinny==2.8.1\n",
        "    - azureml-mlflow==1.51.0\n",
        "    - azureml-inference-server-http\n",
        "    - azureml-core==1.49.0\n",
        "    - cloudpickle==1.6.0"
      ],
      "outputs": [
        {
          "output_type": "stream",
          "name": "stdout",
          "text": "Overwriting ./env/conda.yml\n"
        }
      ],
      "execution_count": 7,
      "metadata": {}
    },
    {
      "cell_type": "code",
      "source": [
        "from azure.ai.ml.entities import Environment, BuildContext\n",
        "\n",
        "env_docker_conda = Environment(\n",
        "    image=\"mcr.microsoft.com/azureml/openmpi4.1.0-ubuntu20.04\",\n",
        "    conda_file=\"env/conda.yml\",\n",
        "    name=\"machine_learning_E2E\",\n",
        "    description=\"Environment created from a Docker image plus Conda environment.\",\n",
        ")\n",
        "\n",
        "# Set a new version explicitly\n",
        "env_docker_conda.version = \"5\"\n",
        "\n",
        "# Register the updated environment\n",
        "ml_client.environments.create_or_update(env_docker_conda)\n"
      ],
      "outputs": [
        {
          "output_type": "execute_result",
          "execution_count": 8,
          "data": {
            "text/plain": "Environment({'arm_type': 'environment_version', 'latest_version': None, 'image': 'mcr.microsoft.com/azureml/openmpi4.1.0-ubuntu20.04', 'intellectual_property': None, 'is_anonymous': False, 'auto_increment_version': False, 'auto_delete_setting': None, 'name': 'machine_learning_E2E', 'description': 'Environment created from a Docker image plus Conda environment.', 'tags': {}, 'properties': {'azureml.labels': 'latest'}, 'print_as_yaml': False, 'id': '/subscriptions/b4f37290-8d43-41df-9b14-dc2c976fb8ca/resourceGroups/ksrg/providers/Microsoft.MachineLearningServices/workspaces/ksAzureML/environments/machine_learning_E2E/versions/5', 'Resource__source_path': '', 'base_path': '/mnt/batch/tasks/shared/LS_root/mounts/clusters/kscompute/code/Users/Kartiki_1746300143815/Project-3-Streamlining Auto Vehicle Pricing through MLOps', 'creation_context': <azure.ai.ml.entities._system_data.SystemData object at 0x7ab4e5546b90>, 'serialize': <msrest.serialization.Serializer object at 0x7ab4e55465f0>, 'version': '5', 'conda_file': {'channels': ['conda-forge'], 'dependencies': ['python=3.8', 'pip=21.2.4', 'scikit-learn=0.23.2', 'scipy=1.7.1', {'pip': ['mlflow==2.8.1', 'mlflow-skinny==2.8.1', 'azureml-mlflow==1.51.0', 'azureml-inference-server-http', 'azureml-core==1.49.0', 'cloudpickle==1.6.0']}], 'name': 'sklearn-env'}, 'build': None, 'inference_config': None, 'os_type': 'Linux', 'conda_file_path': None, 'path': None, 'datastore': None, 'upload_hash': None, 'translated_conda_file': '{\\n  \"channels\": [\\n    \"conda-forge\"\\n  ],\\n  \"dependencies\": [\\n    \"python=3.8\",\\n    \"pip=21.2.4\",\\n    \"scikit-learn=0.23.2\",\\n    \"scipy=1.7.1\",\\n    {\\n      \"pip\": [\\n        \"mlflow==2.8.1\",\\n        \"mlflow-skinny==2.8.1\",\\n        \"azureml-mlflow==1.51.0\",\\n        \"azureml-inference-server-http\",\\n        \"azureml-core==1.49.0\",\\n        \"cloudpickle==1.6.0\"\\n      ]\\n    }\\n  ],\\n  \"name\": \"sklearn-env\"\\n}'})"
          },
          "metadata": {}
        }
      ],
      "execution_count": 8,
      "metadata": {
        "gather": {
          "logged": 1759195146399
        }
      }
    },
    {
      "cell_type": "markdown",
      "source": [
        "## **2. Model Development Workflow**"
      ],
      "metadata": {}
    },
    {
      "cell_type": "markdown",
      "source": [
        "### **2.1 Data Preparation**"
      ],
      "metadata": {}
    },
    {
      "cell_type": "markdown",
      "source": [
        "This **Data Preparation job** is designed to process an input dataset by splitting it into two parts: one for training the model and the other for testing it. The script accepts three inputs: the location of the input data (`used_cars.csv`), the ratio for splitting the data into training and testing sets (`test_train_ratio`), and the paths to save the resulting training (`train_data`) and testing (`test_data`) data. The script first reads the input CSV data from a data asset URI, then splits it using Scikit-learn's train_test_split function, and saves the two parts to the specified directories. It also logs the number of records in both the training and testing datasets using MLflow."
      ],
      "metadata": {
        "nteract": {
          "transient": {
            "deleting": false
          }
        }
      }
    },
    {
      "cell_type": "code",
      "source": [
        "# Create a directory for the preprocessing script\n",
        "import os\n",
        "\n",
        "src_dir_job_scripts = \"./data_prep\"\n",
        "os.makedirs(src_dir_job_scripts, exist_ok=True)"
      ],
      "outputs": [],
      "execution_count": 9,
      "metadata": {
        "gather": {
          "logged": 1759195146966
        }
      }
    },
    {
      "cell_type": "code",
      "source": [
        "%%writefile {src_dir_job_scripts}/data_prep.py\n",
        "\n",
        "import os\n",
        "import argparse\n",
        "import logging\n",
        "import mlflow\n",
        "import pandas as pd\n",
        "from sklearn.preprocessing import LabelEncoder\n",
        "from sklearn.model_selection import train_test_split\n",
        "\n",
        "def main():\n",
        "    parser = argparse.ArgumentParser()\n",
        "    parser.add_argument(\"--data\", type=str, help=\"Path to input data\")\n",
        "    parser.add_argument(\"--test_train_ratio\", type=float, default=0.2)\n",
        "    parser.add_argument(\"--train_data\", type=str, help=\"Path to save train data\")\n",
        "    parser.add_argument(\"--test_data\", type=str, help=\"Path to save test data\")\n",
        "    args = parser.parse_args()\n",
        "\n",
        "    # Start MLflow Run\n",
        "    mlflow.start_run()\n",
        "\n",
        "    # Log arguments\n",
        "    logging.info(f\"Input data path: {args.data}\")\n",
        "    logging.info(f\"Test-train ratio: {args.test_train_ratio}\")\n",
        "\n",
        "    # Reading Data\n",
        "    # df = pd.read_csv(args.raw_data)\n",
        "    df = pd.read_csv(args.data) # Corrected to use defined argument name\n",
        "\n",
        "    # Encode categorical feature\n",
        "    le = LabelEncoder()\n",
        "    df['Segment'] = le.fit_transform(df['Segment']) # Write code to encode the categorical feature\n",
        "\n",
        "    # Split Data into train and test datasets\n",
        "    train_df, test_df = train_test_split(df, test_size=args.test_train_ratio, random_state=42) # Write code to split the data into train and test datasets\n",
        "\n",
        "    # Save train and test data\n",
        "    os.makedirs(args.train_data, exist_ok=True)  # Create directories for train_data and test_data\n",
        "    os.makedirs(args.test_data, exist_ok=True)  # Create directories for train_data and test_data\n",
        "    train_df.to_csv(os.path.join(args.train_data, \"train.csv\"), index=False) # Specify the name of the train data file\n",
        "    test_df.to_csv(os.path.join(args.test_data, \"test.csv\"), index=False) # Specify the name of the test data file\n",
        "\n",
        "    # log the metrics\n",
        "    mlflow.log_metric('train size', train_df.shape[0])  # Log the train dataset size\n",
        "    mlflow.log_metric('test size', test_df.shape[0])  # Log the test dataset size\n",
        "    \n",
        "    mlflow.end_run()\n",
        "\n",
        "if __name__ == \"__main__\":\n",
        "    main()"
      ],
      "outputs": [
        {
          "output_type": "stream",
          "name": "stdout",
          "text": "Overwriting ./data_prep/data_prep.py\n"
        }
      ],
      "execution_count": 10,
      "metadata": {}
    },
    {
      "cell_type": "markdown",
      "source": [
        "#### **Define Data Preparation job**"
      ],
      "metadata": {}
    },
    {
      "cell_type": "markdown",
      "source": [
        "For this AzureML job, we define the `command` object that takes input files and output directories, then executes the script with the provided inputs and outputs. The job runs in a pre-configured AzureML environment with the necessary libraries. The result will be two separate datasets for training and testing, ready for use in subsequent steps of the machine learning pipeline."
      ],
      "metadata": {}
    },
    {
      "cell_type": "code",
      "source": [
        "from azure.ai.ml import command, Input, Output\n",
        "\n",
        "step_process = command(\n",
        "    name=\"data_preparation\",  # name of the job\n",
        "    display_name=\"Prepare Training Data\",  # display name for the job\n",
        "    description=\"Cleans, processes, and splits raw car data into train/test sets.\",  # description of the job\n",
        "    inputs={ \n",
        "        \"data\": Input(type=\"uri_file\"),  # input type for data (e.g., file URI)\n",
        "        \"test_train_ratio\": Input(type=\"number\"),  # input type for the test/train ratio (float)\n",
        "    },\n",
        "    outputs={  \n",
        "        \"train_data\": Output(type=\"uri_folder\", mode=\"rw_mount\", is_returned=True),  # output type for train data (e.g., folder URI)\n",
        "        \"test_data\": Output(type=\"uri_folder\", mode=\"rw_mount\", is_returned=True),  # output type for test data (e.g., folder URI)\n",
        "    },\n",
        "    code=\"./data_prep\",  # Path to the data preparation script\n",
        "    command=\"\"\"python data_prep.py --data ${{inputs.data}} --test_train_ratio ${{inputs.test_train_ratio}} --train_data ${{outputs.train_data}} --test_data ${{outputs.test_data}}\"\"\",\n",
        "    environment=\"machine_learning_E2E@latest\", \n",
        ")"
      ],
      "outputs": [],
      "execution_count": 11,
      "metadata": {
        "gather": {
          "logged": 1759195148367
        }
      }
    },
    {
      "cell_type": "markdown",
      "source": [
        "### **2.2 Training the Model**"
      ],
      "metadata": {}
    },
    {
      "cell_type": "markdown",
      "source": [
        "This Model Training job is designed to train a **Random Forest Regressor** on the dataset that was split into training and testing sets in the previous data preparation job. This job script accepts five inputs: the path to the training data (`train_data`), the path to the testing data (`test_data`), the number of trees in the forest (`n_estimators`, with a default value of 100), the maximum depth of the trees (`max_depth`, which is set to None by default), and the path to save the trained model (`model_output`).\n",
        "\n",
        "The script begins by reading the training and testing data files, then processes the data to separate features (X) and target labels (y). A Random Forest Regressor model is initialized using the given n_estimators and max_depth, and it is trained using the training data. The model's performance is evaluated using the `Mean Squared Error (MSE)`. The MSE score is logged in MLflow. Finally, the trained model is saved and stored in the specified output location as an MLflow model. The job completes by logging the final MSE score and ending the MLflow run.\n"
      ],
      "metadata": {
        "nteract": {
          "transient": {
            "deleting": false
          }
        }
      }
    },
    {
      "cell_type": "code",
      "source": [
        "# Create a directory for the preprocessing script\n",
        "import os\n",
        "\n",
        "src_dir_job_scripts = \"./model_train\"\n",
        "os.makedirs(src_dir_job_scripts, exist_ok=True)"
      ],
      "outputs": [],
      "execution_count": 12,
      "metadata": {
        "gather": {
          "logged": 1759195148758
        }
      }
    },
    {
      "cell_type": "code",
      "source": [
        "%%writefile {src_dir_job_scripts}/model_train.py\n",
        "\n",
        "# Required imports for training\n",
        "import mlflow\n",
        "import argparse\n",
        "import os\n",
        "import pandas as pd\n",
        "from sklearn.model_selection import train_test_split\n",
        "from sklearn.ensemble import RandomForestRegressor\n",
        "from sklearn.metrics import mean_squared_error\n",
        "\n",
        "mlflow.start_run()  # Start the MLflow experiment run\n",
        "\n",
        "os.makedirs(\"./outputs\", exist_ok=True)  # Create the \"outputs\" directory if it doesn't exist\n",
        "\n",
        "def select_first_file(path):\n",
        "    \"\"\"Selects the first file in a folder, assuming there's only one file.\n",
        "    Args:\n",
        "        path (str): Path to the directory or file to choose.\n",
        "    Returns:\n",
        "        str: Full path of the selected file.\n",
        "    \"\"\"\n",
        "    files = os.listdir(path)\n",
        "    return os.path.join(path, files[0])\n",
        "\n",
        "def main():\n",
        "    parser = argparse.ArgumentParser(\"train\")\n",
        "    parser.add_argument(\"--train_data\", type=str, help=\"Path to train dataset\")\n",
        "    parser.add_argument(\"--test_data\", type=str, help=\"Path to test dataset\")\n",
        "    parser.add_argument(\"--model_output\", type=str, help=\"Path of output model\")\n",
        "    parser.add_argument('--n_estimators', type=int, default=100,\n",
        "                        help='The number of trees in the forest')\n",
        "    parser.add_argument('--max_depth', type=int, default=None,\n",
        "                        help='The maximum depth of the tree. If None, then nodes are expanded until all leaves are pure or until all leaves contain less than min_samples_split samples.')\n",
        "\n",
        "    args = parser.parse_args()\n",
        "\n",
        "    # Load datasets\n",
        "    train_df = pd.read_csv(select_first_file(args.train_data))\n",
        "    test_df = pd.read_csv(select_first_file(args.test_data))\n",
        "\n",
        "    print(train_df)\n",
        "    print(test_df)\n",
        "\n",
        "    # Split the data into ______(X) and ______(y) \n",
        "    y_train = train_df['price']  # Specify the target column\n",
        "    X_train = train_df.drop(columns=['price'])\n",
        "    y_test = test_df['price']\n",
        "    X_test = test_df.drop(columns=['price'])\n",
        "\n",
        "    # Initialize and train a RandomForest Regressor\n",
        "    model = RandomForestRegressor(n_estimators=args.n_estimators, max_depth=args.max_depth, random_state=42)  # Provide the arguments for RandomForestRegressor\n",
        "    model.fit(X_train, y_train)  # Train the model\n",
        "\n",
        "    # Log model hyperparameters\n",
        "    mlflow.log_param(\"model\", \"RandomForestRegressor\")  # Provide the model name\n",
        "    mlflow.log_param(\"n_estimators\", args.n_estimators)\n",
        "    mlflow.log_param(\"max_depth\", args.max_depth)\n",
        "\n",
        "    # Predict using the RandomForest Regressor on test data\n",
        "    yhat_test = model.predict(X_test)  # Predict the test data\n",
        "\n",
        "    # Compute and log mean squared error for test data\n",
        "    mse = mean_squared_error(y_test, yhat_test)\n",
        "    print('Mean Squared Error of RandomForest Regressor on test set: {:.2f}'.format(mse))\n",
        "    mlflow.log_metric(\"MSE\", float(mse))  # Log the MSE\n",
        "    mlflow.log_metric(\"n_estimators_metric\", args.n_estimators)\n",
        "    mlflow.log_metric(\"max_depth_metric\", args.max_depth)\n",
        "\n",
        "    # Save the model and also log it to MLflow for experiment tracking\n",
        "    mlflow.sklearn.save_model(sk_model=model, path=args.model_output)\n",
        "    mlflow.sklearn.log_model(sk_model=model, artifact_path=\"model\")\n",
        "\n",
        "    mlflow.end_run()  # Ending the MLflow experiment run\n",
        "\n",
        "if __name__ == \"__main__\":\n",
        "    main()"
      ],
      "outputs": [
        {
          "output_type": "stream",
          "name": "stdout",
          "text": "Overwriting ./model_train/model_train.py\n"
        }
      ],
      "execution_count": 13,
      "metadata": {
        "gather": {
          "logged": 1736950263028
        }
      }
    },
    {
      "cell_type": "markdown",
      "source": [
        "#### **Define Model Training Job**"
      ],
      "metadata": {}
    },
    {
      "cell_type": "markdown",
      "source": [
        "For this AzureML job, we define the `command` object that takes the paths to the training and testing data, the number of trees in the forest (`n_estimators`), and the maximum depth of the trees (`max_depth`) as inputs, and outputs the trained model. The command runs in a pre-configured AzureML environment with all the necessary libraries. The job produces a trained **Random Forest Regressor model**, which can be used for predicting the price of used cars based on the given attributes."
      ],
      "metadata": {}
    },
    {
      "cell_type": "code",
      "source": [
        "from azure.ai.ml import command, Input, Output\n",
        "\n",
        "train_step = command(\n",
        "    name=\"train_price_prediction_model\",\n",
        "    display_name=\"Train RF Regressor\",\n",
        "    description=\"Trains a Random Forest Regressor to predict vehicle prices.\",\n",
        "    inputs={\n",
        "        \"train_data\": Input(type=\"uri_folder\"),\n",
        "        \"test_data\": Input(type=\"uri_folder\"),\n",
        "        \"n_estimators\": Input(type=\"number\", default=100),\n",
        "        \"max_depth\": Input(type=\"number\", default=0),\n",
        "    },\n",
        "    outputs={\n",
        "        \"model_output\": Output(type=\"mlflow_model\", is_returned=True),  # This is the key line\n",
        "    },\n",
        "    code=\"./model_train\",\n",
        "    command=\"\"\"python model_train.py --train_data ${{inputs.train_data}} --test_data ${{inputs.test_data}} --n_estimators ${{inputs.n_estimators}} --max_depth ${{inputs.max_depth}} --model_output ${{outputs.model_output}}\"\"\",\n",
        "    environment=\"machine_learning_E2E@latest\", \n",
        "    compute=\"cpu-cluster\",\n",
        ")\n"
      ],
      "outputs": [],
      "execution_count": 14,
      "metadata": {
        "gather": {
          "logged": 1759195149467
        }
      }
    },
    {
      "cell_type": "markdown",
      "source": [
        "### **2.3 Registering the Best Trained Model**"
      ],
      "metadata": {}
    },
    {
      "cell_type": "markdown",
      "source": [
        "The **Model Registration job** is designed to take the best-trained model from the hyperparameter tuning sweep job and register it in MLflow as a versioned artifact for future use in the used car price prediction pipeline. This job script accepts one input: the path to the trained model (model). The script begins by loading the model using the `mlflow.sklearn.load_model()` function. Afterward, it registers the model in the MLflow model registry, assigning it a descriptive name (`used_cars_price_prediction_model`) and specifying an artifact path (`random_forest_price_regressor`) where the model artifacts will be stored. Using MLflow's `log_model()` function, the model is logged along with its metadata, ensuring that the model is easily trackable and retrievable for future evaluation, deployment, or retraining."
      ],
      "metadata": {
        "nteract": {
          "transient": {
            "deleting": false
          }
        }
      }
    },
    {
      "cell_type": "code",
      "source": [
        "# Create a directory for the preprocessing script\n",
        "import os\n",
        "\n",
        "src_dir_job_scripts = \"./model_register\"\n",
        "os.makedirs(src_dir_job_scripts, exist_ok=True)"
      ],
      "outputs": [],
      "execution_count": 15,
      "metadata": {
        "gather": {
          "logged": 1759195149929
        }
      }
    },
    {
      "cell_type": "code",
      "source": [
        "%%writefile {src_dir_job_scripts}/model_register.py\n",
        "\n",
        "import os\n",
        "import argparse\n",
        "import logging\n",
        "import mlflow\n",
        "import pandas as pd\n",
        "from pathlib import Path\n",
        "\n",
        "mlflow.start_run()  # Starting the MLflow experiment run\n",
        "\n",
        "def main():\n",
        "    # Argument parser setup for command line arguments\n",
        "    parser = argparse.ArgumentParser()\n",
        "    parser.add_argument(\"--model\", type=str, help=\"Path to the trained model\")  # Path to the trained model artifact\n",
        "    args = parser.parse_args()\n",
        "\n",
        "    # Load the trained model from the provided path\n",
        "    model = mlflow.sklearn.load_model(args.model)  # load model from args.model\n",
        "\n",
        "    print(\"Registering the best trained used cars price prediction model\")\n",
        "\n",
        "    # Register the model in the MLflow Model Registry under the name \"price_prediction_model\"\n",
        "    mlflow.sklearn.log_model(\n",
        "        sk_model=model,\n",
        "        registered_model_name=\"used_cars_price_prediction_model\",  # Specify the name under which the model will be registered\n",
        "        artifact_path=\"random_forest_price_regressor\"  # Specify the path where the model artifacts will be stored\n",
        "    )\n",
        "\n",
        "    mlflow.set_tags({\n",
        "    \"model_type\": \"RandomForest\",\n",
        "    \"project\": \"used_car_price_prediction\",\n",
        "    \"sweep\": \"true\"\n",
        "    })\n",
        "\n",
        "    # End the MLflow run\n",
        "    mlflow.end_run()  # end the MLflow run\n",
        "\n",
        "if __name__ == \"__main__\":\n",
        "    main()"
      ],
      "outputs": [
        {
          "output_type": "stream",
          "name": "stdout",
          "text": "Overwriting ./model_register/model_register.py\n"
        }
      ],
      "execution_count": 16,
      "metadata": {}
    },
    {
      "cell_type": "markdown",
      "source": [
        "#### **Define Model Register Job**"
      ],
      "metadata": {}
    },
    {
      "cell_type": "markdown",
      "source": [
        "For this AzureML job, a `command` object is defined to execute the `model_register.py` script. It accepts the best-trained model as input, runs the script in the `AzureML-sklearn-1.0-ubuntu20.04-py38-cpu` environment, and uses the same compute cluster as the previous jobs (`cpu-cluster`). This job plays a crucial role in the pipeline by ensuring that the best-performing model identified during hyperparameter tuning is systematically stored and made available in the MLflow registry for further evaluation, deployment, or retraining. Integrating this job into the end-to-end pipeline automates the process of registering high-quality models, completing the model development lifecycle and enabling the prediction of used car prices."
      ],
      "metadata": {
        "nteract": {
          "transient": {
            "deleting": false
          }
        }
      }
    },
    {
      "cell_type": "code",
      "source": [
        "from azure.ai.ml import command, Input\n",
        "\n",
        "model_register_component = command(\n",
        "    name=\"register_model\",\n",
        "    display_name=\"Register Best Model\", # descriptive display name for the step\n",
        "    description=\"Registers the trained Random Forest model in the MLflow Model Registry.\",  # describing the task\n",
        "    inputs={\"model\": Input(type=\"mlflow_model\")}, # inputs required for the model registration command\n",
        "    code=\"./model_register\",  # directory where the model register script (model_register.py) is located\n",
        "    command=\"\"\"python model_register.py --model ${{inputs.model}}\"\"\",\n",
        "    environment=\"machine_learning_E2E@latest\", # environment configuration for the model register job\n",
        "    compute=\"cpu-cluster\", # the compute target to be used for the job\n",
        ")\n"
      ],
      "outputs": [],
      "execution_count": 17,
      "metadata": {
        "gather": {
          "logged": 1759195151302
        }
      }
    },
    {
      "cell_type": "markdown",
      "source": [
        "### **2.4. Assembling the End-to-End Workflow**"
      ],
      "metadata": {}
    },
    {
      "cell_type": "markdown",
      "source": [
        "The end-to-end pipeline integrates all the previously defined jobs into a seamless workflow, automating the process of data preparation, model training, hyperparameter tuning, and model registration. The pipeline is designed using Azure Machine Learning's `@pipeline` decorator, specifying the compute target and providing a detailed description of the workflow."
      ],
      "metadata": {}
    },
    {
      "cell_type": "code",
      "source": [
        "from azure.ai.ml.sweep import Choice\n",
        "from azure.ai.ml.entities import Model\n",
        "from azure.ai.ml.constants import ModelType\n",
        "from azure.ai.ml.dsl import pipeline\n",
        "\n",
        "# Assemble the pipeline by chaining the jobs\n",
        "@pipeline(\n",
        "    compute=\"cpu-cluster\",  # Compute target for the pipeline\n",
        "    description=\"Automated end-to-end vehicle price prediction workflow.\",  # description for the pipeline\n",
        ")\n",
        "def complete_pipeline(input_data_uri, test_train_ratio, n_estimators, max_depth):\n",
        "     # Step 1: Preprocess the data\n",
        "    preprocess_step = step_process(\n",
        "        data=input_data_uri,\n",
        "        test_train_ratio=test_train_ratio\n",
        "    )\n",
        "    preprocess_step.environment = \"machine_learning_E2E@latest\"\n",
        "\n",
        "    # Step 2: Train the model using preprocessed data\n",
        "    job_for_sweep = train_step(\n",
        "        train_data=preprocess_step.outputs.train_data,\n",
        "        test_data=preprocess_step.outputs.test_data,\n",
        "        n_estimators=Choice(values=[10, 20, 30, 50]),\n",
        "        max_depth=Choice(values=[5, 10, 15]) # removed zero to handle edge cases\n",
        "    )\n",
        "    job_for_sweep.environment = \"machine_learning_E2E@latest\"\n",
        "\n",
        "    # Define the sweep job\n",
        "    sweep_job = job_for_sweep.sweep(\n",
        "        compute=\"cpu-cluster\",\n",
        "        sampling_algorithm=\"random\",\n",
        "        primary_metric=\"MSE\",\n",
        "        goal=\"Minimize\",\n",
        "    )\n",
        "\n",
        "    # Set the limits for the sweep job:\n",
        "    # - max_total_trials: The maximum number of hyperparameter combinations to be evaluated (20 in this case).\n",
        "    # - max_concurrent_trials: The maximum number of trials to run simultaneously (10 in this case) to optimize resource utilization.\n",
        "    # - timeout: The maximum allowed duration for the sweep job in seconds (7200 seconds, or 2 hours).\n",
        "    sweep_job.set_limits(max_total_trials=20, max_concurrent_trials=10, timeout=7200)\n",
        "    sweep_job.outputs[\"model_output\"].is_returned = True \n",
        "\n",
        "    # Step 3: Register the best model - after the sweep job, get the best model\n",
        "    # The model output comes from the completed sweep job, which automatically tracks the 'best' model based on 'primary_metric'.\n",
        "    model_register_step = model_register_component(\n",
        "        model=sweep_job.outputs.model_output,\n",
        "    )\n",
        "    model_register_step.environment = \"machine_learning_E2E@latest\"\n",
        "    print(model_register_step.outputs)\n",
        "\n",
        "    # Returning outputs from all steps in the pipeline\n",
        "    return {\n",
        "        \"pipeline_job_train_data\": preprocess_step.outputs.train_data,\n",
        "        \"pipeline_job_test_data\": preprocess_step.outputs.test_data,\n",
        "        \"pipeline_job_best_model\": sweep_job.outputs.model_output,\n",
        "    }\n"
      ],
      "outputs": [],
      "execution_count": 18,
      "metadata": {
        "gather": {
          "logged": 1759195151869
        }
      }
    },
    {
      "cell_type": "markdown",
      "source": [
        "1. **Data Preparation (Preprocessing Step)**:\n",
        "The pipeline starts by invoking the `step_process` job, which preprocesses the raw input data (`input_data_uri`). This step splits the dataset into training and testing sets based on the provided `test_train_ratio`. The outputs from this step include the processed training and testing datasets (`train_data` and `test_data`), which are passed as inputs to the next step."
      ],
      "metadata": {}
    },
    {
      "cell_type": "markdown",
      "source": [
        "2. **Model Training**:\n",
        "The second step in the pipeline is the `train_step`, which trains a **Random Forest Regressor model** using the preprocessed training data. The job uses `train_data` and `test_data` from the preprocessing step and accepts hyperparameters like `n_estimators` and `max_depth` to configure the model. The training step is designed to work flexibly with the parameters defined in the pipeline, allowing experimentation. This step evaluates the model's performance using the `Mean Squared Error (MSE)` metric and logs the result in MLflow. The trained model is then saved and stored in the specified output location as an MLflow model."
      ],
      "metadata": {
        "nteract": {
          "transient": {
            "deleting": false
          }
        }
      }
    },
    {
      "cell_type": "markdown",
      "source": [
        "3. **Hyperparameter Tuning**:\n",
        "To optimize the model's performance, a Sweep Job is defined based on the training step. The sweep job explores multiple combinations of hyperparameters (`n_estimators` and `max_depth`) using a random sampling algorithm. It aims to minimize the model's `Mean Squared Error (MSE)` to ensure accurate price predictions. The job limits are set to allow a maximum of 20 trials, with up to 10 trials running concurrently, and a total timeout of 7200 seconds (2 hours). This step identifies the best combination of hyperparameters for the model."
      ],
      "metadata": {}
    },
    {
      "cell_type": "markdown",
      "source": [
        "4. **Model Registration**:\n",
        "Once the sweep job completes, the best-performing model is passed to the `model_register_component`. This step registers the model in the MLflow model registry, ensuring that it is versioned and available for deployment or future experimentation. The registered model includes its metadata and is stored with a descriptive name (`used_cars_price_prediction_model`)."
      ],
      "metadata": {}
    },
    {
      "cell_type": "markdown",
      "source": [
        "5. **Pipeline Outputs**:\n",
        "The pipeline returns key outputs for further analysis, including the locations of the training and testing datasets and the best-trained model from the sweep job. These outputs ensure traceability and provide resources for subsequent tasks like evaluation and deployment."
      ],
      "metadata": {}
    },
    {
      "cell_type": "markdown",
      "source": [
        "The pipeline is instantiated by providing the required inputs, such as the data path, test-train ratio, and initial values for hyperparameters (`n_estimators` and `max_depth`). It is then submitted to Azure Machine Learning for execution under the experiment name `price_prediction_pipeline`. Real-time logs can be streamed to monitor the pipeline's progress. Once the pipeline completes, the outputs can be accessed for verification."
      ],
      "metadata": {}
    },
    {
      "cell_type": "code",
      "source": [
        "# The code retrieves a specific version of a registered data asset using the ml_client object.\n",
        "data_path = ml_client.data.get(\"used-cars-data\", version=\"1\").path # Providing the name of the data asset"
      ],
      "outputs": [],
      "execution_count": 19,
      "metadata": {
        "gather": {
          "logged": 1759195152488
        }
      }
    },
    {
      "cell_type": "code",
      "source": [
        "# Create pipeline instance\n",
        "pipeline_instance = complete_pipeline(\n",
        "    input_data_uri=Input(type=\"uri_file\", path=data_path),  # Dataset path\n",
        "    test_train_ratio=0.2,  # Test-train ratio\n",
        "    n_estimators=50,       # Initial value for n_estimators\n",
        "    max_depth=5             # Initial value for max depth\n",
        ")"
      ],
      "outputs": [
        {
          "output_type": "stream",
          "name": "stdout",
          "text": "{}\n"
        }
      ],
      "execution_count": 20,
      "metadata": {
        "gather": {
          "logged": 1759195152773
        }
      }
    },
    {
      "cell_type": "code",
      "source": [
        "# Submit the pipeline to Azure ML\n",
        "pipeline_job = ml_client.jobs.create_or_update(\n",
        "    pipeline_instance, \n",
        "    experiment_name=\"price_prediction_pipeline\" # the experiment name\n",
        ")\n",
        "\n",
        "# Stream the output of the job for real-time logs\n",
        "ml_client.jobs.stream(pipeline_job.name)"
      ],
      "outputs": [
        {
          "output_type": "stream",
          "name": "stderr",
          "text": "Class AutoDeleteSettingSchema: This is an experimental class, and may change at any time. Please see https://aka.ms/azuremlexperimental for more information.\nClass AutoDeleteConditionSchema: This is an experimental class, and may change at any time. Please see https://aka.ms/azuremlexperimental for more information.\nClass BaseAutoDeleteSettingSchema: This is an experimental class, and may change at any time. Please see https://aka.ms/azuremlexperimental for more information.\nClass IntellectualPropertySchema: This is an experimental class, and may change at any time. Please see https://aka.ms/azuremlexperimental for more information.\nClass ProtectionLevelSchema: This is an experimental class, and may change at any time. Please see https://aka.ms/azuremlexperimental for more information.\nClass BaseIntellectualPropertySchema: This is an experimental class, and may change at any time. Please see https://aka.ms/azuremlexperimental for more information.\n\u001b[32mUploading model_train (0.0 MBs): 100%|██████████| 3438/3438 [00:00<00:00, 99414.11it/s]\n\u001b[39m\n\npathOnCompute is not a known attribute of class <class 'azure.ai.ml._restclient.v2023_04_01_preview.models._models_py3.UriFolderJobOutput'> and will be ignored\npathOnCompute is not a known attribute of class <class 'azure.ai.ml._restclient.v2023_04_01_preview.models._models_py3.UriFolderJobOutput'> and will be ignored\npathOnCompute is not a known attribute of class <class 'azure.ai.ml._restclient.v2023_04_01_preview.models._models_py3.MLFlowModelJobOutput'> and will be ignored\n/anaconda/envs/azureml_py310_sdkv2/lib/python3.10/site-packages/mlflow/__init__.py:41: UserWarning: Versions of mlflow (3.1.1) and mlflow-skinny (2.22.1) are different. This may lead to unexpected behavior. Please install the same version of both packages.\n  mlflow.mismatch._check_version_mismatch()\n"
        },
        {
          "output_type": "stream",
          "name": "stdout",
          "text": "RunId: teal_net_4zpz889c4j\nWeb View: https://ml.azure.com/runs/teal_net_4zpz889c4j?wsid=/subscriptions/b4f37290-8d43-41df-9b14-dc2c976fb8ca/resourcegroups/ksrg/workspaces/ksAzureML\n\nStreaming logs/azureml/executionlogs.txt\n========================================\n\n[2025-09-30 01:19:18Z] Completing processing run id fdad4b04-c5f4-4d57-96ec-d478b4e995d5.\n[2025-09-30 01:19:19Z] Submitting 1 runs, first five are: 1102936e:e0fa2cf2-497a-4903-8822-6c70d2537545\n[2025-09-30 01:31:43Z] Completing processing run id e0fa2cf2-497a-4903-8822-6c70d2537545.\n[2025-09-30 01:31:43Z] Submitting 1 runs, first five are: 9f50999a:4d0f71d2-9796-4cb2-ac3d-c96b3e4a49ff\n[2025-09-30 01:32:31Z] Completing processing run id 4d0f71d2-9796-4cb2-ac3d-c96b3e4a49ff.\n\nExecution Summary\n=================\nRunId: teal_net_4zpz889c4j\nWeb View: https://ml.azure.com/runs/teal_net_4zpz889c4j?wsid=/subscriptions/b4f37290-8d43-41df-9b14-dc2c976fb8ca/resourcegroups/ksrg/workspaces/ksAzureML\n\n"
        }
      ],
      "execution_count": 21,
      "metadata": {
        "gather": {
          "logged": 1759195975444
        }
      }
    },
    {
      "cell_type": "code",
      "source": [
        "pipeline_job = ml_client.jobs.get(name=pipeline_job.name)\n",
        "for key, val in pipeline_job.outputs.items():\n",
        "    print(f\"{key}: {val.path}\")"
      ],
      "outputs": [
        {
          "output_type": "stream",
          "name": "stdout",
          "text": "pipeline_job_train_data: None\npipeline_job_test_data: None\npipeline_job_best_model: None\n"
        }
      ],
      "execution_count": 22,
      "metadata": {
        "gather": {
          "logged": 1759195976183
        }
      }
    },
    {
      "cell_type": "code",
      "source": [
        "pipeline_job = ml_client.jobs.get(name=pipeline_job.name)\n",
        "print(\"Train data location:\", pipeline_job.outputs[\"pipeline_job_train_data\"].path)\n",
        "print(\"Test data location:\", pipeline_job.outputs[\"pipeline_job_test_data\"].path)\n",
        "print(\"Best model location:\", pipeline_job.outputs[\"pipeline_job_best_model\"].path)\n"
      ],
      "outputs": [
        {
          "output_type": "stream",
          "name": "stdout",
          "text": "Train data location: None\nTest data location: None\nBest model location: None\n"
        }
      ],
      "execution_count": 23,
      "metadata": {
        "gather": {
          "logged": 1759195976896
        }
      }
    },
    {
      "cell_type": "code",
      "source": [
        "# Access pipeline outputs (optional, after job completion)\n",
        "# print(f\"Train data location: {pipeline_job.outputs['pipeline_job_train_data']}\")\n",
        "# print(f\"Test data location: {pipeline_job.outputs['pipeline_job_test_data']}\")\n",
        "# print(f\"Best model location: {pipeline_job.outputs['pipeline_job_best_model']}\")"
      ],
      "outputs": [],
      "execution_count": 24,
      "metadata": {
        "gather": {
          "logged": 1759195977485
        }
      }
    }
  ],
  "metadata": {
    "kernel_info": {
      "name": "python310-sdkv2"
    },
    "kernelspec": {
      "name": "python310-sdkv2",
      "language": "python",
      "display_name": "Python 3.10 - SDK v2"
    },
    "language_info": {
      "name": "python",
      "version": "3.10.18",
      "mimetype": "text/x-python",
      "codemirror_mode": {
        "name": "ipython",
        "version": 3
      },
      "pygments_lexer": "ipython3",
      "nbconvert_exporter": "python",
      "file_extension": ".py"
    },
    "microsoft": {
      "host": {
        "AzureML": {
          "notebookHasBeenCompleted": true
        }
      },
      "ms_spell_check": {
        "ms_spell_check_language": "en"
      }
    },
    "nteract": {
      "version": "nteract-front-end@1.0.0"
    }
  },
  "nbformat": 4,
  "nbformat_minor": 2
}